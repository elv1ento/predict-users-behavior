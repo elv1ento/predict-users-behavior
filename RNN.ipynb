{
 "cells": [
  {
   "cell_type": "markdown",
   "metadata": {},
   "source": [
    "# Создание и настройка рекурентной нейросети. Keras\n",
    "\n",
    "Цель: научится имитировать поведение мышки юзера на любом веб-сайте"
   ]
  },
  {
   "cell_type": "markdown",
   "metadata": {},
   "source": [
    "## Обработка данных\n",
    "\n",
    "Данные для обучения модели используются с репозитория https://github.com/balabit/Mouse-Dynamics-Challenge\n",
    "\n",
    "Кластеры разбиты на юзеров, которые посещали отслеживаемый сайт. Активность юзеров разбита на сеансы."
   ]
  },
  {
   "cell_type": "code",
   "execution_count": 4,
   "metadata": {},
   "outputs": [
    {
     "name": "stdout",
     "output_type": "stream",
     "text": [
      "Количество пользователей: 10\n",
      "Общее количество сессий: 1612\n"
     ]
    }
   ],
   "source": [
    "# формирование матриц данных из локальных файлов с сессиями пользователей\n",
    "\n",
    "import os\n",
    "import numpy as np\n",
    "import pandas as pd\n",
    "from IPython.display import display, HTML\n",
    "\n",
    "DATA_DIR = os.getcwd() + '/data/test_files/'\n",
    "users_sessions = os.listdir(DATA_DIR)\n",
    "all_sessions = {i: os.listdir(DATA_DIR + i) for i in users_sessions}\n",
    "print('Количество пользователей: %s' % len(all_sessions.keys()))\n",
    "print('Общее количество сессий: %s' % sum([len(v) for v in all_sessions.values()]))\n"
   ]
  },
  {
   "cell_type": "markdown",
   "metadata": {},
   "source": [
    "## Поля каждого файла сеанса:\n",
    "\n",
    "- <b>record timestamp</b>: прошедшее время (в секундах) с начала сеанса, записанное устройством мониторинга netork\n",
    "- <b>client timestamp</b>: прошедшее время (в секундах) с начала сеанса, записанное клиентом RDP\n",
    "- <b>button</b>: текущее состояние кнопок мыши\n",
    "- <b>state</b>: дополнительная информация о текущем состоянии мыши\n",
    "- <b>x</b>: координата x курсора на экране\n",
    "- <b>y</b>: координата y курсора на экране"
   ]
  },
  {
   "cell_type": "code",
   "execution_count": 5,
   "metadata": {},
   "outputs": [
    {
     "name": "stdout",
     "output_type": "stream",
     "text": [
      "Срез необработанной таблицы данных\n"
     ]
    },
    {
     "data": {
      "text/html": [
       "<div>\n",
       "<style scoped>\n",
       "    .dataframe tbody tr th:only-of-type {\n",
       "        vertical-align: middle;\n",
       "    }\n",
       "\n",
       "    .dataframe tbody tr th {\n",
       "        vertical-align: top;\n",
       "    }\n",
       "\n",
       "    .dataframe thead th {\n",
       "        text-align: right;\n",
       "    }\n",
       "</style>\n",
       "<table border=\"1\" class=\"dataframe\">\n",
       "  <thead>\n",
       "    <tr style=\"text-align: right;\">\n",
       "      <th></th>\n",
       "      <th>record_timestamp</th>\n",
       "      <th>client_timestamp</th>\n",
       "      <th>button</th>\n",
       "      <th>state</th>\n",
       "      <th>x</th>\n",
       "      <th>y</th>\n",
       "    </tr>\n",
       "  </thead>\n",
       "  <tbody>\n",
       "    <tr>\n",
       "      <th>0</th>\n",
       "      <td>0.0</td>\n",
       "      <td>0.0</td>\n",
       "      <td>NoButton</td>\n",
       "      <td>Move</td>\n",
       "      <td>630</td>\n",
       "      <td>474</td>\n",
       "    </tr>\n",
       "    <tr>\n",
       "      <th>1</th>\n",
       "      <td>0.108999967575</td>\n",
       "      <td>0.108999999939</td>\n",
       "      <td>Scroll</td>\n",
       "      <td>Down</td>\n",
       "      <td>0</td>\n",
       "      <td>0</td>\n",
       "    </tr>\n",
       "    <tr>\n",
       "      <th>2</th>\n",
       "      <td>0.110000133514</td>\n",
       "      <td>0.108999999939</td>\n",
       "      <td>NoButton</td>\n",
       "      <td>Move</td>\n",
       "      <td>631</td>\n",
       "      <td>508</td>\n",
       "    </tr>\n",
       "    <tr>\n",
       "      <th>3</th>\n",
       "      <td>0.218000173569</td>\n",
       "      <td>0.217999999993</td>\n",
       "      <td>Scroll</td>\n",
       "      <td>Down</td>\n",
       "      <td>0</td>\n",
       "      <td>0</td>\n",
       "    </tr>\n",
       "    <tr>\n",
       "      <th>4</th>\n",
       "      <td>0.218000173569</td>\n",
       "      <td>0.217999999993</td>\n",
       "      <td>NoButton</td>\n",
       "      <td>Move</td>\n",
       "      <td>629</td>\n",
       "      <td>539</td>\n",
       "    </tr>\n",
       "    <tr>\n",
       "      <th>5</th>\n",
       "      <td>0.344000101089</td>\n",
       "      <td>0.342999999993</td>\n",
       "      <td>Scroll</td>\n",
       "      <td>Down</td>\n",
       "      <td>0</td>\n",
       "      <td>0</td>\n",
       "    </tr>\n",
       "    <tr>\n",
       "      <th>6</th>\n",
       "      <td>0.344000101089</td>\n",
       "      <td>0.342999999993</td>\n",
       "      <td>NoButton</td>\n",
       "      <td>Move</td>\n",
       "      <td>628</td>\n",
       "      <td>549</td>\n",
       "    </tr>\n",
       "    <tr>\n",
       "      <th>7</th>\n",
       "      <td>0.764000177383</td>\n",
       "      <td>0.763999999966</td>\n",
       "      <td>Scroll</td>\n",
       "      <td>Down</td>\n",
       "      <td>0</td>\n",
       "      <td>0</td>\n",
       "    </tr>\n",
       "    <tr>\n",
       "      <th>8</th>\n",
       "      <td>0.764000177383</td>\n",
       "      <td>0.763999999966</td>\n",
       "      <td>NoButton</td>\n",
       "      <td>Move</td>\n",
       "      <td>627</td>\n",
       "      <td>551</td>\n",
       "    </tr>\n",
       "    <tr>\n",
       "      <th>9</th>\n",
       "      <td>0.764000177383</td>\n",
       "      <td>0.763999999966</td>\n",
       "      <td>Scroll</td>\n",
       "      <td>Down</td>\n",
       "      <td>0</td>\n",
       "      <td>0</td>\n",
       "    </tr>\n",
       "    <tr>\n",
       "      <th>10</th>\n",
       "      <td>0.904000043869</td>\n",
       "      <td>0.90399999998</td>\n",
       "      <td>Scroll</td>\n",
       "      <td>Down</td>\n",
       "      <td>0</td>\n",
       "      <td>0</td>\n",
       "    </tr>\n",
       "    <tr>\n",
       "      <th>11</th>\n",
       "      <td>0.904000043869</td>\n",
       "      <td>0.90399999998</td>\n",
       "      <td>NoButton</td>\n",
       "      <td>Move</td>\n",
       "      <td>623</td>\n",
       "      <td>563</td>\n",
       "    </tr>\n",
       "    <tr>\n",
       "      <th>12</th>\n",
       "      <td>1.39700007439</td>\n",
       "      <td>1.38799999992</td>\n",
       "      <td>Scroll</td>\n",
       "      <td>Down</td>\n",
       "      <td>0</td>\n",
       "      <td>0</td>\n",
       "    </tr>\n",
       "    <tr>\n",
       "      <th>13</th>\n",
       "      <td>1.5110001564</td>\n",
       "      <td>1.51299999992</td>\n",
       "      <td>NoButton</td>\n",
       "      <td>Move</td>\n",
       "      <td>622</td>\n",
       "      <td>563</td>\n",
       "    </tr>\n",
       "    <tr>\n",
       "      <th>14</th>\n",
       "      <td>1.62000012398</td>\n",
       "      <td>1.62199999997</td>\n",
       "      <td>NoButton</td>\n",
       "      <td>Move</td>\n",
       "      <td>516</td>\n",
       "      <td>572</td>\n",
       "    </tr>\n",
       "    <tr>\n",
       "      <th>15</th>\n",
       "      <td>1.77600002289</td>\n",
       "      <td>1.77799999993</td>\n",
       "      <td>NoButton</td>\n",
       "      <td>Move</td>\n",
       "      <td>504</td>\n",
       "      <td>569</td>\n",
       "    </tr>\n",
       "    <tr>\n",
       "      <th>16</th>\n",
       "      <td>1.88499999046</td>\n",
       "      <td>1.88699999999</td>\n",
       "      <td>NoButton</td>\n",
       "      <td>Move</td>\n",
       "      <td>503</td>\n",
       "      <td>552</td>\n",
       "    </tr>\n",
       "    <tr>\n",
       "      <th>17</th>\n",
       "      <td>1.8860001564</td>\n",
       "      <td>1.88699999999</td>\n",
       "      <td>NoButton</td>\n",
       "      <td>Move</td>\n",
       "      <td>503</td>\n",
       "      <td>547</td>\n",
       "    </tr>\n",
       "    <tr>\n",
       "      <th>18</th>\n",
       "      <td>1.99300003052</td>\n",
       "      <td>1.99599999993</td>\n",
       "      <td>NoButton</td>\n",
       "      <td>Move</td>\n",
       "      <td>502</td>\n",
       "      <td>529</td>\n",
       "    </tr>\n",
       "    <tr>\n",
       "      <th>19</th>\n",
       "      <td>2.10300016403</td>\n",
       "      <td>1.99599999993</td>\n",
       "      <td>NoButton</td>\n",
       "      <td>Move</td>\n",
       "      <td>499</td>\n",
       "      <td>525</td>\n",
       "    </tr>\n",
       "    <tr>\n",
       "      <th>20</th>\n",
       "      <td>2.10400009155</td>\n",
       "      <td>2.10599999991</td>\n",
       "      <td>NoButton</td>\n",
       "      <td>Move</td>\n",
       "      <td>492</td>\n",
       "      <td>516</td>\n",
       "    </tr>\n",
       "    <tr>\n",
       "      <th>21</th>\n",
       "      <td>2.21200013161</td>\n",
       "      <td>2.21499999997</td>\n",
       "      <td>NoButton</td>\n",
       "      <td>Move</td>\n",
       "      <td>491</td>\n",
       "      <td>515</td>\n",
       "    </tr>\n",
       "    <tr>\n",
       "      <th>22</th>\n",
       "      <td>2.21200013161</td>\n",
       "      <td>2.21499999997</td>\n",
       "      <td>Left</td>\n",
       "      <td>Pressed</td>\n",
       "      <td>491</td>\n",
       "      <td>515</td>\n",
       "    </tr>\n",
       "    <tr>\n",
       "      <th>23</th>\n",
       "      <td>2.36000013351</td>\n",
       "      <td>2.35499999998</td>\n",
       "      <td>Left</td>\n",
       "      <td>Released</td>\n",
       "      <td>491</td>\n",
       "      <td>515</td>\n",
       "    </tr>\n",
       "    <tr>\n",
       "      <th>24</th>\n",
       "      <td>2.46200013161</td>\n",
       "      <td>2.46399999992</td>\n",
       "      <td>NoButton</td>\n",
       "      <td>Move</td>\n",
       "      <td>582</td>\n",
       "      <td>514</td>\n",
       "    </tr>\n",
       "    <tr>\n",
       "      <th>25</th>\n",
       "      <td>3.11899995804</td>\n",
       "      <td>3.12</td>\n",
       "      <td>NoButton</td>\n",
       "      <td>Move</td>\n",
       "      <td>589</td>\n",
       "      <td>511</td>\n",
       "    </tr>\n",
       "    <tr>\n",
       "      <th>26</th>\n",
       "      <td>10.9060001373</td>\n",
       "      <td>10.904</td>\n",
       "      <td>Scroll</td>\n",
       "      <td>Up</td>\n",
       "      <td>0</td>\n",
       "      <td>0</td>\n",
       "    </tr>\n",
       "    <tr>\n",
       "      <th>27</th>\n",
       "      <td>11.0390000343</td>\n",
       "      <td>11.044</td>\n",
       "      <td>Scroll</td>\n",
       "      <td>Up</td>\n",
       "      <td>0</td>\n",
       "      <td>0</td>\n",
       "    </tr>\n",
       "    <tr>\n",
       "      <th>28</th>\n",
       "      <td>11.2330000401</td>\n",
       "      <td>11.232</td>\n",
       "      <td>Scroll</td>\n",
       "      <td>Up</td>\n",
       "      <td>0</td>\n",
       "      <td>0</td>\n",
       "    </tr>\n",
       "    <tr>\n",
       "      <th>29</th>\n",
       "      <td>11.3740000725</td>\n",
       "      <td>11.372</td>\n",
       "      <td>Scroll</td>\n",
       "      <td>Up</td>\n",
       "      <td>0</td>\n",
       "      <td>0</td>\n",
       "    </tr>\n",
       "  </tbody>\n",
       "</table>\n",
       "</div>"
      ],
      "text/plain": [
       "   record_timestamp client_timestamp    button     state    x    y\n",
       "0               0.0              0.0  NoButton      Move  630  474\n",
       "1    0.108999967575   0.108999999939    Scroll      Down    0    0\n",
       "2    0.110000133514   0.108999999939  NoButton      Move  631  508\n",
       "3    0.218000173569   0.217999999993    Scroll      Down    0    0\n",
       "4    0.218000173569   0.217999999993  NoButton      Move  629  539\n",
       "5    0.344000101089   0.342999999993    Scroll      Down    0    0\n",
       "6    0.344000101089   0.342999999993  NoButton      Move  628  549\n",
       "7    0.764000177383   0.763999999966    Scroll      Down    0    0\n",
       "8    0.764000177383   0.763999999966  NoButton      Move  627  551\n",
       "9    0.764000177383   0.763999999966    Scroll      Down    0    0\n",
       "10   0.904000043869    0.90399999998    Scroll      Down    0    0\n",
       "11   0.904000043869    0.90399999998  NoButton      Move  623  563\n",
       "12    1.39700007439    1.38799999992    Scroll      Down    0    0\n",
       "13     1.5110001564    1.51299999992  NoButton      Move  622  563\n",
       "14    1.62000012398    1.62199999997  NoButton      Move  516  572\n",
       "15    1.77600002289    1.77799999993  NoButton      Move  504  569\n",
       "16    1.88499999046    1.88699999999  NoButton      Move  503  552\n",
       "17     1.8860001564    1.88699999999  NoButton      Move  503  547\n",
       "18    1.99300003052    1.99599999993  NoButton      Move  502  529\n",
       "19    2.10300016403    1.99599999993  NoButton      Move  499  525\n",
       "20    2.10400009155    2.10599999991  NoButton      Move  492  516\n",
       "21    2.21200013161    2.21499999997  NoButton      Move  491  515\n",
       "22    2.21200013161    2.21499999997      Left   Pressed  491  515\n",
       "23    2.36000013351    2.35499999998      Left  Released  491  515\n",
       "24    2.46200013161    2.46399999992  NoButton      Move  582  514\n",
       "25    3.11899995804             3.12  NoButton      Move  589  511\n",
       "26    10.9060001373           10.904    Scroll        Up    0    0\n",
       "27    11.0390000343           11.044    Scroll        Up    0    0\n",
       "28    11.2330000401           11.232    Scroll        Up    0    0\n",
       "29    11.3740000725           11.372    Scroll        Up    0    0"
      ]
     },
     "metadata": {},
     "output_type": "display_data"
    }
   ],
   "source": [
    "# создание матрицы данных из всех сеансов одного юзера\n",
    "\n",
    "def get_user_sessions(num_user):\n",
    "    session = list(all_sessions.keys())[num_user]\n",
    "    user_files = [DATA_DIR + session + '/' + i for i in all_sessions[session]]\n",
    "    return user_files\n",
    "\n",
    "\n",
    "def file_to_list(file):\n",
    "    with open(file) as f:\n",
    "        lt = f.readlines()\n",
    "    return lt\n",
    "\n",
    "def make_user_dataset(user_files):\n",
    "    dataset = []\n",
    "    columns = False\n",
    "    for i in user_files:\n",
    "        dataset += file_to_list(i)[1:]\n",
    "        if not columns:\n",
    "            columns = [i.replace(' ', '_').replace('\\n', '').split(',')\n",
    "                       for i in file_to_list(i)[0:1]][0]\n",
    "    dataset = [i.replace('\\n', '').split(',') for i in dataset]\n",
    "    data = pd.DataFrame(dataset, columns=columns)\n",
    "    return data\n",
    "\n",
    "num_user = 0 # первый пользоваль в списке \n",
    "data = make_user_dataset(get_user_sessions(num_user))\n",
    "print('Срез необработанной таблицы данных')\n",
    "display(data[:30])\n",
    "# HTML(data.head().to_html())"
   ]
  },
  {
   "cell_type": "markdown",
   "metadata": {},
   "source": [
    "## Препроцессинг. Нормализация, скаллинг, векторизация.\n",
    "\n",
    "Оптимизируем данные для рекурентной нейросети:\n",
    "- Конвертируем категориальные типы данных (колонки <b>button</b>, <b>state</b>) в one-hot матрицы;\n",
    "- Нормализация колличественных типов данных к диапазону от 0 до 1. Используется объект скаллер\n",
    "- Удаление лишней колонки <b>record_timestamp</b>"
   ]
  },
  {
   "cell_type": "code",
   "execution_count": 6,
   "metadata": {},
   "outputs": [
    {
     "name": "stdout",
     "output_type": "stream",
     "text": [
      "Перечень основных категорий\n",
      "\n",
      "['button=Left', 'button=NoButton', 'button=Right', 'button=Scroll', 'state=Down', 'state=Drag', 'state=Move', 'state=Pressed', 'state=Released', 'state=Up']\n",
      "Категории после преобразования\n",
      "\n",
      "[[ 0.  1.  0.  0.  0.  0.  1.  0.  0.  0.]\n",
      " [ 0.  0.  0.  1.  1.  0.  0.  0.  0.  0.]\n",
      " [ 0.  1.  0.  0.  0.  0.  1.  0.  0.  0.]\n",
      " [ 0.  0.  0.  1.  1.  0.  0.  0.  0.  0.]\n",
      " [ 0.  1.  0.  0.  0.  0.  1.  0.  0.  0.]]\n"
     ]
    }
   ],
   "source": [
    "from sklearn.feature_extraction import DictVectorizer\n",
    "from sklearn.preprocessing import MinMaxScaler\n",
    "\n",
    "# получение матрицы one-hot из категориальных данных\n",
    "cols_to_retain = ['button', 'state']\n",
    "pr_data = data[cols_to_retain].to_dict(orient='records_timestamp')\n",
    "vec = DictVectorizer(sparse=False, dtype=float)\n",
    "one_hot_data = vec.fit_transform(pr_data)\n",
    "\n",
    "# скаляризация численных данных\n",
    "cols_to_scal = ['client_timestamp', 'x', 'y']\n",
    "scaler = MinMaxScaler(feature_range=(0, 1), copy=False)\n",
    "data_scal = scaler.fit_transform(data[cols_to_scal])\n",
    "\n",
    "category = vec.get_feature_names()\n",
    "print('Перечень основных категорий\\n')\n",
    "print(category)\n",
    "print('Категории после преобразования\\n')\n",
    "print(one_hot_data[:5])"
   ]
  },
  {
   "cell_type": "code",
   "execution_count": 7,
   "metadata": {},
   "outputs": [
    {
     "name": "stdout",
     "output_type": "stream",
     "text": [
      "Преобразованная таблица данных\n",
      "[[  0.00000000e+00   9.61318379e-03   7.23277638e-03   0.00000000e+00\n",
      "    1.00000000e+00   0.00000000e+00   0.00000000e+00   0.00000000e+00\n",
      "    0.00000000e+00   1.00000000e+00   0.00000000e+00   0.00000000e+00\n",
      "    0.00000000e+00]\n",
      " [  8.09974847e-06   0.00000000e+00   0.00000000e+00   0.00000000e+00\n",
      "    0.00000000e+00   0.00000000e+00   1.00000000e+00   1.00000000e+00\n",
      "    0.00000000e+00   0.00000000e+00   0.00000000e+00   0.00000000e+00\n",
      "    0.00000000e+00]\n",
      " [  8.09974847e-06   9.62844282e-03   7.75158312e-03   0.00000000e+00\n",
      "    1.00000000e+00   0.00000000e+00   0.00000000e+00   0.00000000e+00\n",
      "    0.00000000e+00   1.00000000e+00   0.00000000e+00   0.00000000e+00\n",
      "    0.00000000e+00]\n",
      " [  1.61994970e-05   0.00000000e+00   0.00000000e+00   0.00000000e+00\n",
      "    0.00000000e+00   0.00000000e+00   1.00000000e+00   1.00000000e+00\n",
      "    0.00000000e+00   0.00000000e+00   0.00000000e+00   0.00000000e+00\n",
      "    0.00000000e+00]\n",
      " [  1.61994970e-05   9.59792477e-03   8.22461280e-03   0.00000000e+00\n",
      "    1.00000000e+00   0.00000000e+00   0.00000000e+00   0.00000000e+00\n",
      "    0.00000000e+00   1.00000000e+00   0.00000000e+00   0.00000000e+00\n",
      "    0.00000000e+00]\n",
      " [  2.54881993e-05   0.00000000e+00   0.00000000e+00   0.00000000e+00\n",
      "    0.00000000e+00   0.00000000e+00   1.00000000e+00   1.00000000e+00\n",
      "    0.00000000e+00   0.00000000e+00   0.00000000e+00   0.00000000e+00\n",
      "    0.00000000e+00]\n",
      " [  2.54881993e-05   9.58266575e-03   8.37720302e-03   0.00000000e+00\n",
      "    1.00000000e+00   0.00000000e+00   0.00000000e+00   0.00000000e+00\n",
      "    0.00000000e+00   1.00000000e+00   0.00000000e+00   0.00000000e+00\n",
      "    0.00000000e+00]\n",
      " [  5.67725490e-05   0.00000000e+00   0.00000000e+00   0.00000000e+00\n",
      "    0.00000000e+00   0.00000000e+00   1.00000000e+00   1.00000000e+00\n",
      "    0.00000000e+00   0.00000000e+00   0.00000000e+00   0.00000000e+00\n",
      "    0.00000000e+00]\n",
      " [  5.67725490e-05   9.56740673e-03   8.40772107e-03   0.00000000e+00\n",
      "    1.00000000e+00   0.00000000e+00   0.00000000e+00   0.00000000e+00\n",
      "    0.00000000e+00   1.00000000e+00   0.00000000e+00   0.00000000e+00\n",
      "    0.00000000e+00]\n",
      " [  5.67725490e-05   0.00000000e+00   0.00000000e+00   0.00000000e+00\n",
      "    0.00000000e+00   0.00000000e+00   1.00000000e+00   1.00000000e+00\n",
      "    0.00000000e+00   0.00000000e+00   0.00000000e+00   0.00000000e+00\n",
      "    0.00000000e+00]\n",
      " [  6.71758956e-05   0.00000000e+00   0.00000000e+00   0.00000000e+00\n",
      "    0.00000000e+00   0.00000000e+00   1.00000000e+00   1.00000000e+00\n",
      "    0.00000000e+00   0.00000000e+00   0.00000000e+00   0.00000000e+00\n",
      "    0.00000000e+00]\n",
      " [  6.71758956e-05   9.50637064e-03   8.59082933e-03   0.00000000e+00\n",
      "    1.00000000e+00   0.00000000e+00   0.00000000e+00   0.00000000e+00\n",
      "    0.00000000e+00   1.00000000e+00   0.00000000e+00   0.00000000e+00\n",
      "    0.00000000e+00]]\n"
     ]
    }
   ],
   "source": [
    "# формирование обработанной матрицы\n",
    "pr_data = np.hstack((data_scal, one_hot_data)).astype(float)\n",
    "print(\"Преобразованная таблица данных\")\n",
    "print(pr_data[:12])"
   ]
  },
  {
   "cell_type": "markdown",
   "metadata": {},
   "source": [
    "### Векторизация.\n",
    "Формирование векторов X и Y для обучения из временных последовательнотей.\n",
    "\n",
    "Изменение формы входных данных на трёхмерный тензор. Длина шага - 20 (гиперпараметр в процессе подстройки). \n",
    "\n",
    "Разделение на тренировочный и тестовый набор данных. \n",
    "\n",
    "Для первой части обучения модели используем значения X и Y"
   ]
  },
  {
   "cell_type": "code",
   "execution_count": 8,
   "metadata": {},
   "outputs": [],
   "source": [
    "STEP = 50\n",
    "SPL = 0.7\n",
    "\n",
    "\n",
    "def vectorizeXY(data, seq):\n",
    "    X = np.zeros((data.shape[0], seq, data.shape[1]))\n",
    "    Y = np.zeros((data.shape[0], data.shape[1]))\n",
    "    for i in range(len(data) - seq - 1):\n",
    "        X[i] = data[i:i + seq]\n",
    "        Y[i] = data[i + seq + 1]\n",
    "    return X, Y\n",
    "\n",
    "\n",
    "def split_data(X, Y, spl):\n",
    "    trainX = X[:int(len(X)*spl)]\n",
    "    trainY = Y[:int(len(X)*spl)]\n",
    "    testX = X[int(len(X)*spl):]\n",
    "    testY = Y[int(len(X)*spl):]\n",
    "    return trainX, testX, trainY, testY"
   ]
  },
  {
   "cell_type": "code",
   "execution_count": 9,
   "metadata": {},
   "outputs": [
    {
     "name": "stdout",
     "output_type": "stream",
     "text": [
      "(166261, 50, 2) (71256, 50, 2) (166261, 2) (71256, 2)\n"
     ]
    }
   ],
   "source": [
    "# получаем значения перемещений, нормализируем\n",
    "dataXY = data[['x', 'y']].values.astype('float')/1024\n",
    "X, Y = vectorizeXY(dataXY, STEP)\n",
    "trainX, testX, trainY, testY = split_data(X, Y, SPL)\n",
    "\n",
    "print(trainX.shape, testX.shape, trainY.shape, testY.shape)"
   ]
  },
  {
   "cell_type": "markdown",
   "metadata": {},
   "source": [
    "# Создание модели рекурентной нейросети\n",
    "Используется LSTM(долгая краткосрочная память) способная обучатся долгосрочным зависимостям.\n",
    "\n",
    "Один скрытый слой, состоящий из 64 нейронов.\n",
    "\n",
    "Длина батча 6000 (среднее значение одного сеанса)\n",
    "\n",
    "Показатель качества верности - среднеквадратическая ошибка\n"
   ]
  },
  {
   "cell_type": "code",
   "execution_count": 10,
   "metadata": {},
   "outputs": [
    {
     "name": "stderr",
     "output_type": "stream",
     "text": [
      "Using TensorFlow backend.\n"
     ]
    }
   ],
   "source": [
    "from keras.models import Sequential\n",
    "from keras.layers import LSTM, Dense, Dropout, Activation\n",
    "from keras.callbacks import ModelCheckpoint\n",
    "\n",
    "model = Sequential()\n",
    "model.add(LSTM(64, return_sequences=False, input_shape=(trainX.shape[1],\n",
    "                                                        trainX.shape[2])))\n",
    "model.add(Dense(trainY.shape[1], activation='relu'))\n",
    "model.compile(loss='mse', optimizer='adam', metrics=[\"mean_squared_error\"])"
   ]
  },
  {
   "cell_type": "markdown",
   "metadata": {},
   "source": [
    "## Обучение модели. 20 эпох"
   ]
  },
  {
   "cell_type": "code",
   "execution_count": 12,
   "metadata": {},
   "outputs": [
    {
     "name": "stdout",
     "output_type": "stream",
     "text": [
      "Train on 191849 samples, validate on 82221 samples\n",
      "Epoch 1/20\n",
      " - 131s - loss: 0.5716 - mean_squared_error: 0.5716 - val_loss: 0.2029 - val_mean_squared_error: 0.2029\n",
      "Epoch 2/20\n",
      " - 129s - loss: 0.4856 - mean_squared_error: 0.4856 - val_loss: 0.1832 - val_mean_squared_error: 0.1832\n",
      "Epoch 3/20\n",
      " - 130s - loss: 0.4768 - mean_squared_error: 0.4768 - val_loss: 0.1789 - val_mean_squared_error: 0.1789\n",
      "Epoch 4/20\n",
      " - 147s - loss: 0.4737 - mean_squared_error: 0.4737 - val_loss: 0.1764 - val_mean_squared_error: 0.1764\n",
      "Epoch 5/20\n",
      " - 150s - loss: 0.4715 - mean_squared_error: 0.4715 - val_loss: 0.1745 - val_mean_squared_error: 0.1745\n",
      "Epoch 6/20\n",
      " - 144s - loss: 0.4697 - mean_squared_error: 0.4697 - val_loss: 0.1728 - val_mean_squared_error: 0.1728\n",
      "Epoch 7/20\n",
      " - 152s - loss: 0.4680 - mean_squared_error: 0.4680 - val_loss: 0.1714 - val_mean_squared_error: 0.1714\n",
      "Epoch 8/20\n",
      " - 205s - loss: 0.4667 - mean_squared_error: 0.4667 - val_loss: 0.1702 - val_mean_squared_error: 0.1702\n",
      "Epoch 9/20\n",
      " - 184s - loss: 0.4654 - mean_squared_error: 0.4654 - val_loss: 0.1692 - val_mean_squared_error: 0.1692\n",
      "Epoch 10/20\n",
      " - 158s - loss: 0.4644 - mean_squared_error: 0.4644 - val_loss: 0.1683 - val_mean_squared_error: 0.1683\n",
      "Epoch 11/20\n",
      " - 151s - loss: 0.4633 - mean_squared_error: 0.4633 - val_loss: 0.1668 - val_mean_squared_error: 0.1668\n",
      "Epoch 12/20\n",
      " - 164s - loss: 0.4622 - mean_squared_error: 0.4622 - val_loss: 0.1657 - val_mean_squared_error: 0.1657\n",
      "Epoch 13/20\n",
      " - 160s - loss: 0.4609 - mean_squared_error: 0.4609 - val_loss: 0.1646 - val_mean_squared_error: 0.1646\n",
      "Epoch 14/20\n",
      " - 171s - loss: 0.4602 - mean_squared_error: 0.4602 - val_loss: 0.1637 - val_mean_squared_error: 0.1637\n",
      "Epoch 15/20\n",
      " - 183s - loss: 0.4593 - mean_squared_error: 0.4593 - val_loss: 0.1632 - val_mean_squared_error: 0.1632\n",
      "Epoch 16/20\n",
      " - 207s - loss: 0.4590 - mean_squared_error: 0.4590 - val_loss: 0.1629 - val_mean_squared_error: 0.1629\n",
      "Epoch 17/20\n",
      " - 218s - loss: 0.4586 - mean_squared_error: 0.4586 - val_loss: 0.1627 - val_mean_squared_error: 0.1627\n",
      "Epoch 18/20\n",
      " - 164s - loss: 0.4583 - mean_squared_error: 0.4583 - val_loss: 0.1624 - val_mean_squared_error: 0.1624\n",
      "Epoch 19/20\n",
      " - 180s - loss: 0.4580 - mean_squared_error: 0.4580 - val_loss: 0.1622 - val_mean_squared_error: 0.1622\n",
      "Epoch 20/20\n",
      " - 174s - loss: 0.4578 - mean_squared_error: 0.4578 - val_loss: 0.1620 - val_mean_squared_error: 0.1620\n"
     ]
    }
   ],
   "source": [
    "history = model.fit(trainX, trainY, batch_size=6000,\n",
    "                    epochs=20, verbose=2,\n",
    "                    validation_data=(testX, testY), shuffle=False)"
   ]
  },
  {
   "cell_type": "code",
   "execution_count": 13,
   "metadata": {},
   "outputs": [
    {
     "name": "stdout",
     "output_type": "stream",
     "text": [
      "82221/82221 [==============================] - 21s 254us/step\n",
      "\n",
      "MSE: 0.162, RMSE: 0.403\n"
     ]
    }
   ],
   "source": [
    "# оценка эффективности модели\n",
    "import math\n",
    "score, _ = model.evaluate(testX, testY, batch_size=6000)\n",
    "rmse = math.sqrt(score)\n",
    "print(\"\\nMSE: {:.3f}, RMSE: {:.3f}\".format(score, rmse))"
   ]
  },
  {
   "cell_type": "code",
   "execution_count": 11,
   "metadata": {},
   "outputs": [],
   "source": [
    "model.save_weights(os.getcwd() + '/' + 'standartXY-1.hdf5')"
   ]
  },
  {
   "cell_type": "markdown",
   "metadata": {},
   "source": [
    "# Визуализация полученных результатов"
   ]
  },
  {
   "cell_type": "code",
   "execution_count": 12,
   "metadata": {},
   "outputs": [],
   "source": [
    "import matplotlib.pyplot as plt\n",
    "%matplotlib inline\n",
    "plt.style.use('seaborn-whitegrid')"
   ]
  },
  {
   "cell_type": "code",
   "execution_count": 10,
   "metadata": {},
   "outputs": [],
   "source": [
    "a = predict[:200, (0)]\n",
    "b = testY[:200, (0)]\n",
    "c = predict[:200, (1)]\n",
    "d = testY[:200, (1)]"
   ]
  },
  {
   "cell_type": "code",
   "execution_count": 13,
   "metadata": {},
   "outputs": [
    {
     "data": {
      "image/png": "[encoded data removed]",
      "text/plain": [
       "<matplotlib.figure.Figure at 0x7ff60698bb00>"
      ]
     },
     "metadata": {},
     "output_type": "display_data"
    }
   ],
   "source": [
    "# визуализация соотношения предсказанных данных к валидационным\n",
    "plt.plot(a, label='предсказанное значение')\n",
    "plt.plot(b, label='валидационное (реальное) значение')\n",
    "plt.title(\"Соотношение движения мышки по оси X\")\n",
    "plt.xlabel(\"передвиджения по X\")\n",
    "plt.ylabel(\"пиксели\")\n",
    "plt.legend()\n",
    "plt.show()"
   ]
  },
  {
   "cell_type": "code",
   "execution_count": 14,
   "metadata": {},
   "outputs": [
    {
     "data": {
      "image/png": "[encoded data removed]",
      "text/plain": [
       "<matplotlib.figure.Figure at 0x7ff6068f3240>"
      ]
     },
     "metadata": {},
     "output_type": "display_data"
    }
   ],
   "source": [
    "plt.plot(c, label='предсказанное значение')\n",
    "plt.plot(d, label='валидационное (реальное) значение')\n",
    "plt.title(\"Соотношение движения мышки по оси Y\")\n",
    "plt.xlabel(\"передвиджения по Y\")\n",
    "plt.ylabel(\"пиксели\")\n",
    "plt.legend()\n",
    "plt.show()"
   ]
  },
  {
   "cell_type": "code",
   "execution_count": 15,
   "metadata": {},
   "outputs": [
    {
     "data": {
      "image/png": "[encoded data removed]",
      "text/plain": [
       "<matplotlib.figure.Figure at 0x7ff6068bf588>"
      ]
     },
     "metadata": {},
     "output_type": "display_data"
    }
   ],
   "source": [
    "plt.scatter(a, c, s=10)\n",
    "plt.scatter(b, d, s=10)\n",
    "plt.title(\"Соотношение движения мышки по двум осям X,Y\")\n",
    "plt.xlabel(\"координаты экрана по X\")\n",
    "plt.ylabel(\"координаты экрана по Y\")\n",
    "plt.show()"
   ]
  },
  {
   "cell_type": "markdown",
   "metadata": {},
   "source": [
    "На графиках видно, что нейросеть крайне отчетливо поняла все закономерности в перемещении мышки пользователя по екрану.\n",
    "\n",
    "Успешность предсказаний почти 96%, что говорит о том, что модель обучена предсказывать поведение мышки.\n",
    "\n",
    "Дальнейшие шаги обучения: добавить ещё один набор признаков - временная дельта между перемещением мышки по осям экрана."
   ]
  },
  {
   "cell_type": "markdown",
   "metadata": {},
   "source": [
    "## Декодирование и демонстрация работы нейросети\n",
    "\n",
    "В папке с файлом блокнота прилагается видео."
   ]
  }
 ],
 "metadata": {
  "kernelspec": {
   "display_name": "Python 3",
   "language": "python",
   "name": "python3"
  },
  "language_info": {
   "codemirror_mode": {
    "name": "ipython",
    "version": 3
   },
   "file_extension": ".py",
   "mimetype": "text/x-python",
   "name": "python",
   "nbconvert_exporter": "python",
   "pygments_lexer": "ipython3",
   "version": "3.5.2"
  }
 },
 "nbformat": 4,
 "nbformat_minor": 2
}
